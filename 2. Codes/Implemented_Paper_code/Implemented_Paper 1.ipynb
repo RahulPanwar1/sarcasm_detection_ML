{
 "cells": [
  {
   "cell_type": "code",
   "execution_count": 1,
   "id": "3bcc195c",
   "metadata": {},
   "outputs": [],
   "source": [
    "import pandas as pd\n",
    "import numpy as np\n",
    "from sklearn.feature_extraction.text import CountVectorizer\n",
    "from sklearn.model_selection import train_test_split\n",
    "from sklearn.naive_bayes import MultinomialNB\n",
    "from sklearn.linear_model import LogisticRegression\n",
    "from sklearn.svm import SVC\n",
    "from sklearn.metrics import accuracy_score\n",
    "from sklearn.metrics import classification_report\n",
    "from sklearn.metrics import f1_score\n",
    "from sklearn.metrics import roc_auc_score\n"
   ]
  },
  {
   "cell_type": "code",
   "execution_count": 2,
   "id": "faf1c472",
   "metadata": {},
   "outputs": [],
   "source": [
    "pd.set_option('max_colwidth', 100)"
   ]
  },
  {
   "cell_type": "code",
   "execution_count": 3,
   "id": "2ed9f05c",
   "metadata": {},
   "outputs": [
    {
     "data": {
      "text/html": [
       "<div>\n",
       "<style scoped>\n",
       "    .dataframe tbody tr th:only-of-type {\n",
       "        vertical-align: middle;\n",
       "    }\n",
       "\n",
       "    .dataframe tbody tr th {\n",
       "        vertical-align: top;\n",
       "    }\n",
       "\n",
       "    .dataframe thead th {\n",
       "        text-align: right;\n",
       "    }\n",
       "</style>\n",
       "<table border=\"1\" class=\"dataframe\">\n",
       "  <thead>\n",
       "    <tr style=\"text-align: right;\">\n",
       "      <th></th>\n",
       "      <th>article_link</th>\n",
       "      <th>text</th>\n",
       "      <th>is_sarcastic</th>\n",
       "    </tr>\n",
       "  </thead>\n",
       "  <tbody>\n",
       "    <tr>\n",
       "      <th>0</th>\n",
       "      <td>https://www.huffingtonpost.com/entry/versace-black-code_us_5861fbefe4b0de3a08f600d5</td>\n",
       "      <td>former versace store clerk sues over secret 'black code' for minority shoppers</td>\n",
       "      <td>0</td>\n",
       "    </tr>\n",
       "    <tr>\n",
       "      <th>1</th>\n",
       "      <td>https://www.huffingtonpost.com/entry/roseanne-revival-review_us_5ab3a497e4b054d118e04365</td>\n",
       "      <td>the 'roseanne' revival catches up to our thorny political mood, for better and worse</td>\n",
       "      <td>0</td>\n",
       "    </tr>\n",
       "    <tr>\n",
       "      <th>2</th>\n",
       "      <td>https://local.theonion.com/mom-starting-to-fear-son-s-web-series-closest-thing-she-1819576697</td>\n",
       "      <td>mom starting to fear son's web series closest thing she will have to grandchild</td>\n",
       "      <td>1</td>\n",
       "    </tr>\n",
       "    <tr>\n",
       "      <th>3</th>\n",
       "      <td>https://politics.theonion.com/boehner-just-wants-wife-to-listen-not-come-up-with-alt-1819574302</td>\n",
       "      <td>boehner just wants wife to listen, not come up with alternative debt-reduction ideas</td>\n",
       "      <td>1</td>\n",
       "    </tr>\n",
       "    <tr>\n",
       "      <th>4</th>\n",
       "      <td>https://www.huffingtonpost.com/entry/jk-rowling-wishes-snape-happy-birthday_us_569117c4e4b0cad15...</td>\n",
       "      <td>j.k. rowling wishes snape happy birthday in the most magical way</td>\n",
       "      <td>0</td>\n",
       "    </tr>\n",
       "  </tbody>\n",
       "</table>\n",
       "</div>"
      ],
      "text/plain": [
       "                                                                                          article_link  \\\n",
       "0                  https://www.huffingtonpost.com/entry/versace-black-code_us_5861fbefe4b0de3a08f600d5   \n",
       "1             https://www.huffingtonpost.com/entry/roseanne-revival-review_us_5ab3a497e4b054d118e04365   \n",
       "2        https://local.theonion.com/mom-starting-to-fear-son-s-web-series-closest-thing-she-1819576697   \n",
       "3      https://politics.theonion.com/boehner-just-wants-wife-to-listen-not-come-up-with-alt-1819574302   \n",
       "4  https://www.huffingtonpost.com/entry/jk-rowling-wishes-snape-happy-birthday_us_569117c4e4b0cad15...   \n",
       "\n",
       "                                                                                   text  \\\n",
       "0        former versace store clerk sues over secret 'black code' for minority shoppers   \n",
       "1  the 'roseanne' revival catches up to our thorny political mood, for better and worse   \n",
       "2       mom starting to fear son's web series closest thing she will have to grandchild   \n",
       "3  boehner just wants wife to listen, not come up with alternative debt-reduction ideas   \n",
       "4                      j.k. rowling wishes snape happy birthday in the most magical way   \n",
       "\n",
       "   is_sarcastic  \n",
       "0             0  \n",
       "1             0  \n",
       "2             1  \n",
       "3             1  \n",
       "4             0  "
      ]
     },
     "execution_count": 3,
     "metadata": {},
     "output_type": "execute_result"
    }
   ],
   "source": [
    "df =  pd.read_json('Sarcasm_Headlines_Dataset.json', lines=True)\n",
    "df.rename(columns={'headline': 'text'}, inplace=True)\n",
    "df.head()\n"
   ]
  },
  {
   "cell_type": "code",
   "execution_count": 4,
   "id": "b4efa151",
   "metadata": {},
   "outputs": [
    {
     "data": {
      "text/plain": [
       "(26709, 3)"
      ]
     },
     "execution_count": 4,
     "metadata": {},
     "output_type": "execute_result"
    }
   ],
   "source": [
    "df.shape"
   ]
  },
  {
   "cell_type": "code",
   "execution_count": 5,
   "id": "c6ae0d3e",
   "metadata": {},
   "outputs": [
    {
     "data": {
      "text/plain": [
       "0    14985\n",
       "1    11724\n",
       "Name: is_sarcastic, dtype: int64"
      ]
     },
     "execution_count": 5,
     "metadata": {},
     "output_type": "execute_result"
    }
   ],
   "source": [
    "df.is_sarcastic.value_counts()"
   ]
  },
  {
   "cell_type": "code",
   "execution_count": 6,
   "id": "9fd65604",
   "metadata": {},
   "outputs": [
    {
     "data": {
      "text/html": [
       "<div>\n",
       "<style scoped>\n",
       "    .dataframe tbody tr th:only-of-type {\n",
       "        vertical-align: middle;\n",
       "    }\n",
       "\n",
       "    .dataframe tbody tr th {\n",
       "        vertical-align: top;\n",
       "    }\n",
       "\n",
       "    .dataframe thead th {\n",
       "        text-align: right;\n",
       "    }\n",
       "</style>\n",
       "<table border=\"1\" class=\"dataframe\">\n",
       "  <thead>\n",
       "    <tr style=\"text-align: right;\">\n",
       "      <th></th>\n",
       "      <th>text</th>\n",
       "    </tr>\n",
       "  </thead>\n",
       "  <tbody>\n",
       "    <tr>\n",
       "      <th>0</th>\n",
       "      <td>former versace store clerk sues over secret 'black code' for minority shoppers</td>\n",
       "    </tr>\n",
       "    <tr>\n",
       "      <th>1</th>\n",
       "      <td>the 'roseanne' revival catches up to our thorny political mood, for better and worse</td>\n",
       "    </tr>\n",
       "    <tr>\n",
       "      <th>4</th>\n",
       "      <td>j.k. rowling wishes snape happy birthday in the most magical way</td>\n",
       "    </tr>\n",
       "    <tr>\n",
       "      <th>5</th>\n",
       "      <td>advancing the world's women</td>\n",
       "    </tr>\n",
       "    <tr>\n",
       "      <th>6</th>\n",
       "      <td>the fascinating case for eating lab-grown meat</td>\n",
       "    </tr>\n",
       "    <tr>\n",
       "      <th>7</th>\n",
       "      <td>this ceo will send your kids to school, if you work for his company</td>\n",
       "    </tr>\n",
       "    <tr>\n",
       "      <th>9</th>\n",
       "      <td>friday's morning email: inside trump's presser for the ages</td>\n",
       "    </tr>\n",
       "    <tr>\n",
       "      <th>10</th>\n",
       "      <td>airline passengers tackle man who rushes cockpit in bomb threat</td>\n",
       "    </tr>\n",
       "    <tr>\n",
       "      <th>11</th>\n",
       "      <td>facebook reportedly working on healthcare features and apps</td>\n",
       "    </tr>\n",
       "    <tr>\n",
       "      <th>12</th>\n",
       "      <td>north korea praises trump and urges us voters to reject 'dull hillary'</td>\n",
       "    </tr>\n",
       "  </tbody>\n",
       "</table>\n",
       "</div>"
      ],
      "text/plain": [
       "                                                                                    text\n",
       "0         former versace store clerk sues over secret 'black code' for minority shoppers\n",
       "1   the 'roseanne' revival catches up to our thorny political mood, for better and worse\n",
       "4                       j.k. rowling wishes snape happy birthday in the most magical way\n",
       "5                                                            advancing the world's women\n",
       "6                                         the fascinating case for eating lab-grown meat\n",
       "7                    this ceo will send your kids to school, if you work for his company\n",
       "9                            friday's morning email: inside trump's presser for the ages\n",
       "10                       airline passengers tackle man who rushes cockpit in bomb threat\n",
       "11                           facebook reportedly working on healthcare features and apps\n",
       "12                north korea praises trump and urges us voters to reject 'dull hillary'"
      ]
     },
     "execution_count": 6,
     "metadata": {},
     "output_type": "execute_result"
    }
   ],
   "source": [
    "df_serious = df[df['is_sarcastic']==0].head(10)\n",
    "df_serious[['text']]\n"
   ]
  },
  {
   "cell_type": "code",
   "execution_count": 7,
   "id": "9c35a8af",
   "metadata": {},
   "outputs": [
    {
     "data": {
      "text/html": [
       "<div>\n",
       "<style scoped>\n",
       "    .dataframe tbody tr th:only-of-type {\n",
       "        vertical-align: middle;\n",
       "    }\n",
       "\n",
       "    .dataframe tbody tr th {\n",
       "        vertical-align: top;\n",
       "    }\n",
       "\n",
       "    .dataframe thead th {\n",
       "        text-align: right;\n",
       "    }\n",
       "</style>\n",
       "<table border=\"1\" class=\"dataframe\">\n",
       "  <thead>\n",
       "    <tr style=\"text-align: right;\">\n",
       "      <th></th>\n",
       "      <th>text</th>\n",
       "    </tr>\n",
       "  </thead>\n",
       "  <tbody>\n",
       "    <tr>\n",
       "      <th>2</th>\n",
       "      <td>mom starting to fear son's web series closest thing she will have to grandchild</td>\n",
       "    </tr>\n",
       "    <tr>\n",
       "      <th>3</th>\n",
       "      <td>boehner just wants wife to listen, not come up with alternative debt-reduction ideas</td>\n",
       "    </tr>\n",
       "    <tr>\n",
       "      <th>8</th>\n",
       "      <td>top snake handler leaves sinking huckabee campaign</td>\n",
       "    </tr>\n",
       "    <tr>\n",
       "      <th>15</th>\n",
       "      <td>nuclear bomb detonates during rehearsal for 'spider-man' musical</td>\n",
       "    </tr>\n",
       "    <tr>\n",
       "      <th>16</th>\n",
       "      <td>cosby lawyer asks why accusers didn't come forward to be smeared by legal team years ago</td>\n",
       "    </tr>\n",
       "    <tr>\n",
       "      <th>17</th>\n",
       "      <td>stock analysts confused, frightened by boar market</td>\n",
       "    </tr>\n",
       "    <tr>\n",
       "      <th>20</th>\n",
       "      <td>courtroom sketch artist has clear manga influences</td>\n",
       "    </tr>\n",
       "    <tr>\n",
       "      <th>21</th>\n",
       "      <td>trump assures nation that decision for syrian airstrikes came after carefully considering all hi...</td>\n",
       "    </tr>\n",
       "    <tr>\n",
       "      <th>27</th>\n",
       "      <td>ex-con back behind bar</td>\n",
       "    </tr>\n",
       "    <tr>\n",
       "      <th>28</th>\n",
       "      <td>after careful consideration, bush recommends oil drilling</td>\n",
       "    </tr>\n",
       "  </tbody>\n",
       "</table>\n",
       "</div>"
      ],
      "text/plain": [
       "                                                                                                   text\n",
       "2                       mom starting to fear son's web series closest thing she will have to grandchild\n",
       "3                  boehner just wants wife to listen, not come up with alternative debt-reduction ideas\n",
       "8                                                    top snake handler leaves sinking huckabee campaign\n",
       "15                                     nuclear bomb detonates during rehearsal for 'spider-man' musical\n",
       "16             cosby lawyer asks why accusers didn't come forward to be smeared by legal team years ago\n",
       "17                                                   stock analysts confused, frightened by boar market\n",
       "20                                                   courtroom sketch artist has clear manga influences\n",
       "21  trump assures nation that decision for syrian airstrikes came after carefully considering all hi...\n",
       "27                                                                               ex-con back behind bar\n",
       "28                                            after careful consideration, bush recommends oil drilling"
      ]
     },
     "execution_count": 7,
     "metadata": {},
     "output_type": "execute_result"
    }
   ],
   "source": [
    "df_sarcastic = df[df['is_sarcastic']==1].head(10)\n",
    "df_sarcastic[['text']]"
   ]
  },
  {
   "cell_type": "code",
   "execution_count": 8,
   "id": "40b5eb2a",
   "metadata": {},
   "outputs": [],
   "source": [
    "df['text'] = df['text'].replace('!', ' exclamation ')\n",
    "df['text'] = df['text'].replace('?', ' question ')\n",
    "df['text'] = df['text'].replace('\\'', ' quotation ')\n",
    "df['text'] = df['text'].replace('\\\"', ' quotation ')"
   ]
  },
  {
   "cell_type": "code",
   "execution_count": 9,
   "id": "c9053073",
   "metadata": {},
   "outputs": [],
   "source": [
    "count_vec = CountVectorizer()\n",
    "bow = count_vec.fit_transform(df['text'])\n",
    "bow = np.array(bow.todense())"
   ]
  },
  {
   "cell_type": "code",
   "execution_count": 10,
   "id": "04fea560",
   "metadata": {},
   "outputs": [],
   "source": [
    "X = bow\n",
    "y = df['is_sarcastic']"
   ]
  },
  {
   "cell_type": "code",
   "execution_count": 11,
   "id": "863220ca",
   "metadata": {},
   "outputs": [],
   "source": [
    "X_train, X_test, y_train, y_test = train_test_split(X, y, \n",
    "                                                    test_size=0.3, \n",
    "                                                    stratify=y)"
   ]
  },
  {
   "cell_type": "code",
   "execution_count": 12,
   "id": "ba0798b8",
   "metadata": {},
   "outputs": [],
   "source": [
    "model = MultinomialNB().fit(X_train, y_train)\n",
    "y_pred = model.predict(X_test)"
   ]
  },
  {
   "cell_type": "code",
   "execution_count": 13,
   "id": "7045f22f",
   "metadata": {},
   "outputs": [
    {
     "name": "stdout",
     "output_type": "stream",
     "text": [
      "Accuracy: 0.8451266691626108\n",
      "F1 score: 0.841376961635799\n",
      "ROC AUC: 0.8388638129795593\n"
     ]
    }
   ],
   "source": [
    "print('Accuracy:', accuracy_score(y_test, y_pred))\n",
    "print('F1 score:', f1_score(y_test, y_pred, average=\"macro\"))\n",
    "print('ROC AUC:', roc_auc_score(y_test, y_pred))"
   ]
  },
  {
   "cell_type": "code",
   "execution_count": 13,
   "id": "23b400bb",
   "metadata": {},
   "outputs": [
    {
     "name": "stdout",
     "output_type": "stream",
     "text": [
      "              precision    recall  f1-score   support\n",
      "\n",
      "           0       0.85      0.88      0.87      4496\n",
      "           1       0.84      0.80      0.82      3517\n",
      "\n",
      "    accuracy                           0.85      8013\n",
      "   macro avg       0.85      0.84      0.84      8013\n",
      "weighted avg       0.85      0.85      0.85      8013\n",
      "\n"
     ]
    }
   ],
   "source": [
    "print(classification_report(y_test, y_pred))"
   ]
  },
  {
   "cell_type": "code",
   "execution_count": 15,
   "id": "6d233555",
   "metadata": {},
   "outputs": [],
   "source": [
    "lr_model = LogisticRegression(max_iter=1000)"
   ]
  },
  {
   "cell_type": "code",
   "execution_count": 16,
   "id": "991b9987",
   "metadata": {},
   "outputs": [],
   "source": [
    "lr_model.fit(X_train, y_train)\n",
    "y_pred_lr = lr_model.predict(X_test)"
   ]
  },
  {
   "cell_type": "code",
   "execution_count": 19,
   "id": "d232445f",
   "metadata": {},
   "outputs": [
    {
     "name": "stdout",
     "output_type": "stream",
     "text": [
      "Accuracy: 0.8375140396855111\n",
      "F1 score: 0.8341753211455383\n",
      "ROC AUC: 0.8326062682830825\n"
     ]
    }
   ],
   "source": [
    "print('Accuracy:', accuracy_score(y_test, y_pred_lr))\n",
    "print('F1 score:', f1_score(y_test, y_pred_lr, average=\"macro\"))\n",
    "print('ROC AUC:', roc_auc_score(y_test, y_pred_lr))"
   ]
  },
  {
   "cell_type": "code",
   "execution_count": 18,
   "id": "f1332c35",
   "metadata": {},
   "outputs": [],
   "source": [
    "results = pd.DataFrame(data={'predicted': y_pred, 'actual': y_test})\n",
    "predictions = results.join(df)"
   ]
  },
  {
   "cell_type": "code",
   "execution_count": 19,
   "id": "8032b94d",
   "metadata": {},
   "outputs": [],
   "source": [
    "def is_correct(predicted, actual):\n",
    "    if predicted == actual:\n",
    "        return True\n",
    "    else:\n",
    "        return False\n",
    "\n",
    "predictions['correct'] = predictions.apply(lambda x: is_correct(x.predicted, x.actual), axis=1)\n",
    "predictions = predictions[['text','predicted','actual','correct']]"
   ]
  },
  {
   "cell_type": "code",
   "execution_count": 20,
   "id": "931bb24c",
   "metadata": {},
   "outputs": [
    {
     "data": {
      "text/html": [
       "<div>\n",
       "<style scoped>\n",
       "    .dataframe tbody tr th:only-of-type {\n",
       "        vertical-align: middle;\n",
       "    }\n",
       "\n",
       "    .dataframe tbody tr th {\n",
       "        vertical-align: top;\n",
       "    }\n",
       "\n",
       "    .dataframe thead th {\n",
       "        text-align: right;\n",
       "    }\n",
       "</style>\n",
       "<table border=\"1\" class=\"dataframe\">\n",
       "  <thead>\n",
       "    <tr style=\"text-align: right;\">\n",
       "      <th></th>\n",
       "      <th>text</th>\n",
       "      <th>predicted</th>\n",
       "      <th>actual</th>\n",
       "      <th>correct</th>\n",
       "    </tr>\n",
       "  </thead>\n",
       "  <tbody>\n",
       "    <tr>\n",
       "      <th>18049</th>\n",
       "      <td>10 habits that make you look older</td>\n",
       "      <td>0</td>\n",
       "      <td>0</td>\n",
       "      <td>True</td>\n",
       "    </tr>\n",
       "    <tr>\n",
       "      <th>17969</th>\n",
       "      <td>rihanna throws support behind hillary clinton with perfect throwback tee</td>\n",
       "      <td>0</td>\n",
       "      <td>0</td>\n",
       "      <td>True</td>\n",
       "    </tr>\n",
       "    <tr>\n",
       "      <th>14899</th>\n",
       "      <td>on labor day: the tale of generational struggle for middle class wages</td>\n",
       "      <td>0</td>\n",
       "      <td>0</td>\n",
       "      <td>True</td>\n",
       "    </tr>\n",
       "    <tr>\n",
       "      <th>26370</th>\n",
       "      <td>if hamster only knew what happened to last hamster</td>\n",
       "      <td>1</td>\n",
       "      <td>1</td>\n",
       "      <td>True</td>\n",
       "    </tr>\n",
       "    <tr>\n",
       "      <th>22357</th>\n",
       "      <td>14 truths about being an asexual person</td>\n",
       "      <td>0</td>\n",
       "      <td>0</td>\n",
       "      <td>True</td>\n",
       "    </tr>\n",
       "    <tr>\n",
       "      <th>...</th>\n",
       "      <td>...</td>\n",
       "      <td>...</td>\n",
       "      <td>...</td>\n",
       "      <td>...</td>\n",
       "    </tr>\n",
       "    <tr>\n",
       "      <th>9027</th>\n",
       "      <td>woman quickly cycles through non-threatening voice inflections before expressing concern</td>\n",
       "      <td>1</td>\n",
       "      <td>1</td>\n",
       "      <td>True</td>\n",
       "    </tr>\n",
       "    <tr>\n",
       "      <th>23253</th>\n",
       "      <td>first-time carjacker wasn't expecting a stick shift</td>\n",
       "      <td>1</td>\n",
       "      <td>1</td>\n",
       "      <td>True</td>\n",
       "    </tr>\n",
       "    <tr>\n",
       "      <th>8513</th>\n",
       "      <td>brandon grant, vice president of impulse group, shares what pride means to him</td>\n",
       "      <td>0</td>\n",
       "      <td>0</td>\n",
       "      <td>True</td>\n",
       "    </tr>\n",
       "    <tr>\n",
       "      <th>9563</th>\n",
       "      <td>terrified fda warns something making bananas black after several days</td>\n",
       "      <td>1</td>\n",
       "      <td>1</td>\n",
       "      <td>True</td>\n",
       "    </tr>\n",
       "    <tr>\n",
       "      <th>1955</th>\n",
       "      <td>man at point where thought of reince priebus controlling white house pretty comforting</td>\n",
       "      <td>1</td>\n",
       "      <td>1</td>\n",
       "      <td>True</td>\n",
       "    </tr>\n",
       "  </tbody>\n",
       "</table>\n",
       "<p>100 rows × 4 columns</p>\n",
       "</div>"
      ],
      "text/plain": [
       "                                                                                           text  \\\n",
       "18049                                                        10 habits that make you look older   \n",
       "17969                  rihanna throws support behind hillary clinton with perfect throwback tee   \n",
       "14899                    on labor day: the tale of generational struggle for middle class wages   \n",
       "26370                                        if hamster only knew what happened to last hamster   \n",
       "22357                                                   14 truths about being an asexual person   \n",
       "...                                                                                         ...   \n",
       "9027   woman quickly cycles through non-threatening voice inflections before expressing concern   \n",
       "23253                                       first-time carjacker wasn't expecting a stick shift   \n",
       "8513             brandon grant, vice president of impulse group, shares what pride means to him   \n",
       "9563                      terrified fda warns something making bananas black after several days   \n",
       "1955     man at point where thought of reince priebus controlling white house pretty comforting   \n",
       "\n",
       "       predicted  actual  correct  \n",
       "18049          0       0     True  \n",
       "17969          0       0     True  \n",
       "14899          0       0     True  \n",
       "26370          1       1     True  \n",
       "22357          0       0     True  \n",
       "...          ...     ...      ...  \n",
       "9027           1       1     True  \n",
       "23253          1       1     True  \n",
       "8513           0       0     True  \n",
       "9563           1       1     True  \n",
       "1955           1       1     True  \n",
       "\n",
       "[100 rows x 4 columns]"
      ]
     },
     "execution_count": 20,
     "metadata": {},
     "output_type": "execute_result"
    }
   ],
   "source": [
    "predictions[predictions['correct']==True].sample(100)\n"
   ]
  },
  {
   "cell_type": "code",
   "execution_count": null,
   "id": "dfd9cf92",
   "metadata": {},
   "outputs": [],
   "source": []
  }
 ],
 "metadata": {
  "kernelspec": {
   "display_name": "Python 3",
   "language": "python",
   "name": "python3"
  },
  "language_info": {
   "codemirror_mode": {
    "name": "ipython",
    "version": 3
   },
   "file_extension": ".py",
   "mimetype": "text/x-python",
   "name": "python",
   "nbconvert_exporter": "python",
   "pygments_lexer": "ipython3",
   "version": "3.8.8"
  }
 },
 "nbformat": 4,
 "nbformat_minor": 5
}
